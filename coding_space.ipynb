{
 "cells": [
  {
   "cell_type": "code",
   "execution_count": null,
   "id": "b57aa2d2-a534-4019-8ffb-252d1d694824",
   "metadata": {},
   "outputs": [],
   "source": [
    "# this is a space for coding"
   ]
  },
  {
   "cell_type": "code",
   "execution_count": null,
   "id": "8aafd7eb-5827-4ea5-9571-c04cd584dbb6",
   "metadata": {},
   "outputs": [],
   "source": []
  }
 ],
 "metadata": {
  "kernelspec": {
   "display_name": "Python 3 (ipykernel)",
   "language": "python",
   "name": "python3"
  },
  "language_info": {
   "codemirror_mode": {
    "name": "ipython",
    "version": 3
   },
   "file_extension": ".py",
   "mimetype": "text/x-python",
   "name": "python",
   "nbconvert_exporter": "python",
   "pygments_lexer": "ipython3",
   "version": "3.9.13"
  }
 },
 "nbformat": 4,
 "nbformat_minor": 5
}
