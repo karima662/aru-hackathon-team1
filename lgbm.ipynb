{
 "cells": [
  {
   "cell_type": "code",
   "execution_count": 68,
   "metadata": {},
   "outputs": [
    {
     "name": "stdout",
     "output_type": "stream",
     "text": [
      "conda 22.9.0\n"
     ]
    }
   ],
   "source": []
  },
  {
   "cell_type": "code",
   "execution_count": 52,
   "metadata": {},
   "outputs": [],
   "source": [
    "import lightgbm as lgb\n",
    "from sklearn.metrics import roc_auc_score\n",
    "from sklearn.model_selection import GridSearchCV\n",
    "import pandas as pd"
   ]
  },
  {
   "cell_type": "code",
   "execution_count": 53,
   "metadata": {},
   "outputs": [],
   "source": [
    "train_df = pd.read_csv(\"train_df.csv\")\n",
    "valid_df = pd.read_csv(\"valid_df.csv\")\n",
    "test_df = pd.read_csv(\"test_df.csv\")\n",
    "\n",
    "\n",
    "# Prepare the data\n",
    "X_train = train_df.drop('is_corona_positive', axis=1)\n",
    "y_train = train_df['is_corona_positive']\n",
    "\n",
    "X_valid = valid_df.drop('is_corona_positive', axis=1)\n",
    "y_valid = valid_df['is_corona_positive']"
   ]
  },
  {
   "cell_type": "code",
   "execution_count": 55,
   "metadata": {},
   "outputs": [
    {
     "name": "stdout",
     "output_type": "stream",
     "text": [
      "Fitting 5 folds for each of 243 candidates, totalling 1215 fits\n",
      "Best Hyperparameters: {'colsample_bytree': 1.0, 'learning_rate': 0.1, 'max_depth': 15, 'num_leaves': 40, 'subsample': 0.8}\n",
      "Best Weighted F1 score: 0.999711312603155\n",
      "Validation F1 score: 0.7090374724467302\n",
      "CPU times: user 14.4 s, sys: 3.56 s, total: 17.9 s\n",
      "Wall time: 3min 42s\n"
     ]
    }
   ],
   "source": [
    "%%time\n",
    "\n",
    "from sklearn.metrics import f1_score\n",
    "\n",
    "# Define the LightGBM model\n",
    "model = lgb.LGBMClassifier(random_state=42)\n",
    "\n",
    "# Define the hyperparameters to tune\n",
    "param_grid = {\n",
    "    'learning_rate': [0.01, 0.1, 0.5],\n",
    "    'num_leaves': [20, 30, 40],\n",
    "    'max_depth': [5, 10, 15],\n",
    "    'subsample': [0.8, 0.9, 1.0],\n",
    "    'colsample_bytree': [0.8, 0.9, 1.0]\n",
    "}\n",
    "\n",
    "# Perform grid search cross-validation\n",
    "grid_search = GridSearchCV(\n",
    "    estimator=model,\n",
    "    param_grid=param_grid,\n",
    "    scoring='f1_weighted',\n",
    "    cv=5,\n",
    "    verbose=3,\n",
    "    n_jobs=-1\n",
    ")\n",
    "\n",
    "# Fit the grid search to the training data\n",
    "grid_search.fit(X_train, y_train)\n",
    "\n",
    "# Get the best hyperparameters and score\n",
    "best_params = grid_search.best_params_\n",
    "best_score = grid_search.best_score_\n",
    "\n",
    "# Train a new LightGBM model using the best hyperparameters\n",
    "best_model = lgb.LGBMClassifier(random_state=42, **best_params)\n",
    "best_model.fit(X_train, y_train)\n",
    "\n",
    "# Evaluate the best model on the validation set\n",
    "y_pred_valid = best_model.predict(X_valid)\n",
    "f1_score = f1_score(y_valid, y_pred_valid)\n",
    "\n",
    "print(\"Best Hyperparameters:\", best_params)\n",
    "print(\"Best Weighted F1 score:\", best_score)\n",
    "print(\"Validation F1 score:\", f1_score)\n",
    "\n"
   ]
  },
  {
   "cell_type": "code",
   "execution_count": 56,
   "metadata": {},
   "outputs": [],
   "source": [
    "best_roc_auc_model = lgb.LGBMClassifier(colsample_bytree= 0.9, learning_rate= 0.1, max_depth= 10, num_leaves = 40, subsample= 0.8, random_state=42)\n",
    "best_weighted_f1 = lgb.LGBMClassifier(colsample_bytree= 1.0, learning_rate= 0.1, max_depth= 15, num_leaves = 40, subsample= 0.8, random_state=42)"
   ]
  },
  {
   "cell_type": "code",
   "execution_count": 60,
   "metadata": {},
   "outputs": [
    {
     "name": "stdout",
     "output_type": "stream",
     "text": [
      "Best ROC AUC score\n",
      "              precision    recall  f1-score   support\n",
      "\n",
      "           0       0.98      0.99      0.98     26009\n",
      "           1       0.76      0.66      0.71      1461\n",
      "\n",
      "    accuracy                           0.97     27470\n",
      "   macro avg       0.87      0.82      0.85     27470\n",
      "weighted avg       0.97      0.97      0.97     27470\n",
      "\n",
      "Best Weighted F1 score\n",
      "              precision    recall  f1-score   support\n",
      "\n",
      "           0       0.98      0.99      0.98     26009\n",
      "           1       0.77      0.66      0.71      1461\n",
      "\n",
      "    accuracy                           0.97     27470\n",
      "   macro avg       0.87      0.82      0.85     27470\n",
      "weighted avg       0.97      0.97      0.97     27470\n",
      "\n"
     ]
    }
   ],
   "source": [
    "from sklearn.metrics import classification_report\n",
    "\n",
    "best_roc_auc_model.fit(X_train, y_train)\n",
    "y_pred = best_roc_auc_model.predict(X_valid)\n",
    "print(\"Best ROC AUC score\")\n",
    "print(classification_report(y_valid, y_pred))\n",
    "\n",
    "best_weighted_f1.fit(X_train, y_train)\n",
    "y_pred = best_weighted_f1.predict(X_valid)\n",
    "print(\"Best Weighted F1 score\")\n",
    "print(classification_report(y_valid, y_pred))"
   ]
  }
 ],
 "metadata": {
  "kernelspec": {
   "display_name": "base",
   "language": "python",
   "name": "python3"
  },
  "language_info": {
   "codemirror_mode": {
    "name": "ipython",
    "version": 3
   },
   "file_extension": ".py",
   "mimetype": "text/x-python",
   "name": "python",
   "nbconvert_exporter": "python",
   "pygments_lexer": "ipython3",
   "version": "3.8.5"
  },
  "orig_nbformat": 4
 },
 "nbformat": 4,
 "nbformat_minor": 2
}
