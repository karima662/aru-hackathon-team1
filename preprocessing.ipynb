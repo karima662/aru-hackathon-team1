{
 "cells": [
  {
   "cell_type": "markdown",
   "metadata": {},
   "source": [
    "# ARU - Hackathon - Pre-processing"
   ]
  },
  {
   "cell_type": "markdown",
   "metadata": {},
   "source": [
    "### Collaboratively Team written by Max\n",
    "### Cleaned By Max"
   ]
  },
  {
   "cell_type": "code",
   "execution_count": 7,
   "metadata": {},
   "outputs": [
    {
     "name": "stdout",
     "output_type": "stream",
     "text": [
      "Done!\n",
      "CPU times: user 484 µs, sys: 277 µs, total: 761 µs\n",
      "Wall time: 748 µs\n"
     ]
    }
   ],
   "source": [
    "%%time\n",
    "%matplotlib inline\n",
    "\n",
    "# Importing libraries\n",
    "import numpy as np\n",
    "import pandas as pd\n",
    "import seaborn as sns\n",
    "import matplotlib.pyplot as plt\n",
    "import itertools\n",
    "import plotly.graph_objects as go\n",
    "from plotly.subplots import make_subplots\n",
    "from sklearn.model_selection import train_test_split\n",
    "from sklearn.preprocessing import StandardScaler\n",
    "from imblearn.combine import SMOTEENN\n",
    "from collections import Counter\n",
    "\n",
    "import warnings  # For handling warnings\n",
    "warnings.filterwarnings('ignore')  # Ignore all warnings\n",
    "\n",
    "# set pandas display options\n",
    "pd.set_option('display.max_columns', None)\n",
    "pd.set_option('display.max_rows', None)\n",
    "\n",
    "\n",
    "\n",
    "print(\"Done!\")"
   ]
  },
  {
   "cell_type": "code",
   "execution_count": 3,
   "metadata": {},
   "outputs": [],
   "source": [
    "# Reading the cleaned dataset\n",
    "df = pd.read_csv(\"final_df.csv\")"
   ]
  },
  {
   "cell_type": "code",
   "execution_count": 4,
   "metadata": {},
   "outputs": [
    {
     "name": "stdout",
     "output_type": "stream",
     "text": [
      "(274702, 14)\n"
     ]
    }
   ],
   "source": [
    "# Printing the shape of the dataset\n",
    "print(df.shape)"
   ]
  },
  {
   "cell_type": "code",
   "execution_count": 5,
   "metadata": {},
   "outputs": [],
   "source": [
    "# Creating train, validation and test sets\n",
    "X_train, X_rem, y_train, y_rem = train_test_split(df.drop('is_corona_positive', axis=1), df['is_corona_positive'], test_size=0.2, random_state=42)\n",
    "X_valid, X_test, y_valid, y_test = train_test_split(X_rem, y_rem, test_size=0.5)"
   ]
  },
  {
   "cell_type": "code",
   "execution_count": 6,
   "metadata": {},
   "outputs": [],
   "source": [
    "# Oversampling the train set with SMOTEENN because of the imbalanced target variable\n",
    "X_smote_train, y_smote_train = SMOTEENN(random_state=42).fit_resample(X_train, y_train)"
   ]
  },
  {
   "cell_type": "code",
   "execution_count": 9,
   "metadata": {},
   "outputs": [
    {
     "name": "stdout",
     "output_type": "stream",
     "text": [
      "Counter({0: 194788, 1: 78825})\n"
     ]
    }
   ],
   "source": [
    "# Printing the value counts of the target variable\n",
    "print(Counter(y_smote_train))"
   ]
  },
  {
   "cell_type": "code",
   "execution_count": 10,
   "metadata": {},
   "outputs": [],
   "source": [
    "# Scaling the data\n",
    "scaler = StandardScaler()\n",
    "X_train_scaled = scaler.fit_transform(X_smote_train)\n",
    "X_valid_scaled, X_test_scaled = scaler.transform(X_valid), scaler.transform(X_test)"
   ]
  },
  {
   "cell_type": "code",
   "execution_count": 11,
   "metadata": {},
   "outputs": [],
   "source": [
    "# Creating dataframes from the scaled data\n",
    "X_train_scaled_df = pd.DataFrame(X_train_scaled, columns=X_train.columns).reset_index(drop=True)\n",
    "X_valid_scaled_df = pd.DataFrame(X_valid_scaled, columns=X_valid.columns).reset_index(drop=True)\n",
    "X_test_scaled_df = pd.DataFrame(X_test_scaled, columns=X_test.columns).reset_index(drop=True)\n",
    "\n",
    "y_smote_train_df = pd.DataFrame(y_smote_train, columns=['is_corona_positive']).reset_index(drop=True)\n",
    "y_valid_df = pd.DataFrame(y_valid, columns=['is_corona_positive']).reset_index(drop=True)\n",
    "y_test_df = pd.DataFrame(y_test, columns=['is_corona_positive']).reset_index(drop=True)"
   ]
  },
  {
   "cell_type": "code",
   "execution_count": 13,
   "metadata": {},
   "outputs": [
    {
     "name": "stdout",
     "output_type": "stream",
     "text": [
      "is_corona_positive\n",
      "0                     194788\n",
      "1                      78825\n",
      "dtype: int64\n",
      "is_corona_positive\n",
      "0                     26013\n",
      "1                      1457\n",
      "dtype: int64\n",
      "is_corona_positive\n",
      "0                     26051\n",
      "1                      1420\n",
      "dtype: int64\n"
     ]
    }
   ],
   "source": [
    "# Printing the value counts of the target variable\n",
    "print(y_smote_train_df.value_counts())\n",
    "print(y_valid_df.value_counts())\n",
    "print(y_test_df.value_counts())"
   ]
  },
  {
   "cell_type": "code",
   "execution_count": 14,
   "metadata": {},
   "outputs": [],
   "source": [
    "# Creating dataframes for train, validation and test sets\n",
    "train_df = pd.concat([X_train_scaled_df, y_smote_train_df], axis=1)\n",
    "valid_df = pd.concat([X_valid_scaled_df, y_valid_df], axis=1)\n",
    "test_df = pd.concat([X_test_scaled_df, y_test_df], axis=1)"
   ]
  },
  {
   "cell_type": "code",
   "execution_count": 54,
   "metadata": {},
   "outputs": [],
   "source": [
    "# Saving train, validation and test sets to csv files\n",
    "train_df.to_csv(\"train_df.csv\", index=False)\n",
    "valid_df.to_csv(\"valid_df.csv\", index=False)\n",
    "test_df.to_csv(\"test_df.csv\", index=False)"
   ]
  }
 ],
 "metadata": {
  "kernelspec": {
   "display_name": "base",
   "language": "python",
   "name": "python3"
  },
  "language_info": {
   "codemirror_mode": {
    "name": "ipython",
    "version": 3
   },
   "file_extension": ".py",
   "mimetype": "text/x-python",
   "name": "python",
   "nbconvert_exporter": "python",
   "pygments_lexer": "ipython3",
   "version": "3.9.6"
  },
  "orig_nbformat": 4
 },
 "nbformat": 4,
 "nbformat_minor": 2
}
