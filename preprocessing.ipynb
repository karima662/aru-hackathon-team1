{
 "cells": [
  {
   "cell_type": "code",
   "execution_count": 38,
   "metadata": {},
   "outputs": [
    {
     "name": "stdout",
     "output_type": "stream",
     "text": [
      "Done!\n",
      "CPU times: user 739 µs, sys: 885 µs, total: 1.62 ms\n",
      "Wall time: 1.63 ms\n"
     ]
    }
   ],
   "source": [
    "%%time\n",
    "\n",
    "# load libraries\n",
    "import numpy as np\n",
    "import pandas as pd\n",
    "import seaborn as sns\n",
    "import matplotlib.pyplot as plt\n",
    "%matplotlib inline\n",
    "import itertools\n",
    "import plotly.graph_objects as go\n",
    "from plotly.subplots import make_subplots\n",
    "\n",
    "\n",
    "pd.set_option('display.max_columns', None)\n",
    "pd.set_option('display.max_rows', None)\n",
    "import warnings  # For handling warnings\n",
    "warnings.filterwarnings('ignore')  # Ignore all warnings\n",
    "\n",
    "print(\"Done!\")"
   ]
  },
  {
   "cell_type": "code",
   "execution_count": 39,
   "metadata": {},
   "outputs": [
    {
     "data": {
      "text/plain": [
       "['coding_space.ipynb',\n",
       " 'corona_tested_individuals_ver_006.english.csv',\n",
       " 'README.md',\n",
       " '.git']"
      ]
     },
     "execution_count": 39,
     "metadata": {},
     "output_type": "execute_result"
    }
   ],
   "source": [
    "# locate data\n",
    "import os\n",
    "os.listdir('../aru-hackathon-team1')"
   ]
  },
  {
   "cell_type": "code",
   "execution_count": 40,
   "metadata": {},
   "outputs": [
    {
     "name": "stdout",
     "output_type": "stream",
     "text": [
      "(274702, 14)\n"
     ]
    },
    {
     "data": {
      "text/html": [
       "<div>\n",
       "<style scoped>\n",
       "    .dataframe tbody tr th:only-of-type {\n",
       "        vertical-align: middle;\n",
       "    }\n",
       "\n",
       "    .dataframe tbody tr th {\n",
       "        vertical-align: top;\n",
       "    }\n",
       "\n",
       "    .dataframe thead th {\n",
       "        text-align: right;\n",
       "    }\n",
       "</style>\n",
       "<table border=\"1\" class=\"dataframe\">\n",
       "  <thead>\n",
       "    <tr style=\"text-align: right;\">\n",
       "      <th></th>\n",
       "      <th>days_since_start</th>\n",
       "      <th>cough</th>\n",
       "      <th>fever</th>\n",
       "      <th>sore_throat</th>\n",
       "      <th>shortness_of_breath</th>\n",
       "      <th>head_ache</th>\n",
       "      <th>is_corona_positive</th>\n",
       "      <th>test_indication_Abroad</th>\n",
       "      <th>test_indication_Contact with confirmed</th>\n",
       "      <th>test_indication_Other</th>\n",
       "      <th>age_60_and_above_NaN</th>\n",
       "      <th>age_60_and_above_Yes</th>\n",
       "      <th>gender_NaN</th>\n",
       "      <th>gender_male</th>\n",
       "    </tr>\n",
       "  </thead>\n",
       "  <tbody>\n",
       "    <tr>\n",
       "      <th>0</th>\n",
       "      <td>50</td>\n",
       "      <td>0</td>\n",
       "      <td>0</td>\n",
       "      <td>0</td>\n",
       "      <td>0</td>\n",
       "      <td>0</td>\n",
       "      <td>0</td>\n",
       "      <td>0</td>\n",
       "      <td>0</td>\n",
       "      <td>1</td>\n",
       "      <td>1</td>\n",
       "      <td>0</td>\n",
       "      <td>0</td>\n",
       "      <td>0</td>\n",
       "    </tr>\n",
       "    <tr>\n",
       "      <th>1</th>\n",
       "      <td>50</td>\n",
       "      <td>1</td>\n",
       "      <td>0</td>\n",
       "      <td>0</td>\n",
       "      <td>0</td>\n",
       "      <td>0</td>\n",
       "      <td>0</td>\n",
       "      <td>0</td>\n",
       "      <td>0</td>\n",
       "      <td>1</td>\n",
       "      <td>1</td>\n",
       "      <td>0</td>\n",
       "      <td>0</td>\n",
       "      <td>0</td>\n",
       "    </tr>\n",
       "    <tr>\n",
       "      <th>2</th>\n",
       "      <td>50</td>\n",
       "      <td>0</td>\n",
       "      <td>1</td>\n",
       "      <td>0</td>\n",
       "      <td>0</td>\n",
       "      <td>0</td>\n",
       "      <td>0</td>\n",
       "      <td>0</td>\n",
       "      <td>0</td>\n",
       "      <td>1</td>\n",
       "      <td>1</td>\n",
       "      <td>0</td>\n",
       "      <td>0</td>\n",
       "      <td>1</td>\n",
       "    </tr>\n",
       "    <tr>\n",
       "      <th>3</th>\n",
       "      <td>50</td>\n",
       "      <td>1</td>\n",
       "      <td>0</td>\n",
       "      <td>0</td>\n",
       "      <td>0</td>\n",
       "      <td>0</td>\n",
       "      <td>0</td>\n",
       "      <td>0</td>\n",
       "      <td>0</td>\n",
       "      <td>1</td>\n",
       "      <td>1</td>\n",
       "      <td>0</td>\n",
       "      <td>0</td>\n",
       "      <td>0</td>\n",
       "    </tr>\n",
       "    <tr>\n",
       "      <th>4</th>\n",
       "      <td>50</td>\n",
       "      <td>1</td>\n",
       "      <td>0</td>\n",
       "      <td>0</td>\n",
       "      <td>0</td>\n",
       "      <td>0</td>\n",
       "      <td>0</td>\n",
       "      <td>0</td>\n",
       "      <td>0</td>\n",
       "      <td>1</td>\n",
       "      <td>1</td>\n",
       "      <td>0</td>\n",
       "      <td>0</td>\n",
       "      <td>1</td>\n",
       "    </tr>\n",
       "  </tbody>\n",
       "</table>\n",
       "</div>"
      ],
      "text/plain": [
       "   days_since_start  cough  fever  sore_throat  shortness_of_breath  \\\n",
       "0                50      0      0            0                    0   \n",
       "1                50      1      0            0                    0   \n",
       "2                50      0      1            0                    0   \n",
       "3                50      1      0            0                    0   \n",
       "4                50      1      0            0                    0   \n",
       "\n",
       "   head_ache  is_corona_positive  test_indication_Abroad  \\\n",
       "0          0                   0                       0   \n",
       "1          0                   0                       0   \n",
       "2          0                   0                       0   \n",
       "3          0                   0                       0   \n",
       "4          0                   0                       0   \n",
       "\n",
       "   test_indication_Contact with confirmed  test_indication_Other  \\\n",
       "0                                       0                      1   \n",
       "1                                       0                      1   \n",
       "2                                       0                      1   \n",
       "3                                       0                      1   \n",
       "4                                       0                      1   \n",
       "\n",
       "   age_60_and_above_NaN  age_60_and_above_Yes  gender_NaN  gender_male  \n",
       "0                     1                     0           0            0  \n",
       "1                     1                     0           0            0  \n",
       "2                     1                     0           0            1  \n",
       "3                     1                     0           0            0  \n",
       "4                     1                     0           0            1  "
      ]
     },
     "execution_count": 40,
     "metadata": {},
     "output_type": "execute_result"
    }
   ],
   "source": [
    "# load data\n",
    "df = pd.read_csv(\"final_df.csv\")\n",
    "print(df.shape)\n",
    "df.head(5)"
   ]
  },
  {
   "cell_type": "code",
   "execution_count": 41,
   "metadata": {},
   "outputs": [],
   "source": [
    "from sklearn.model_selection import train_test_split\n",
    "from sklearn.preprocessing import StandardScaler\n",
    "from imblearn.combine import SMOTEENN"
   ]
  },
  {
   "cell_type": "code",
   "execution_count": 42,
   "metadata": {},
   "outputs": [],
   "source": [
    "# In the first step we will split the data in training and remaining dataset\n",
    "X_train, X_rem, y_train, y_rem = train_test_split(df.drop('is_corona_positive', axis=1), df['is_corona_positive'], test_size=0.2, random_state=42)\n",
    "\n",
    "# Now since we want the valid and test size to be equal (10% each of overall data). \n",
    "# we have to define valid_size=0.5 (that is 50% of remaining data)\n",
    "X_valid, X_test, y_valid, y_test = train_test_split(X_rem, y_rem, test_size=0.5)"
   ]
  },
  {
   "cell_type": "code",
   "execution_count": 43,
   "metadata": {},
   "outputs": [
    {
     "name": "stdout",
     "output_type": "stream",
     "text": [
      "X_train shape:  (219761, 13)\n",
      "X_valid shape:  (27470, 13)\n",
      "X_test shape:  (27471, 13)\n",
      "y_train shape:  (219761,)\n",
      "y_valid shape:  (27470,)\n",
      "y_test shape:  (27471,)\n",
      "is_corona_positive\n",
      "0    207944\n",
      "1     11817\n",
      "Name: count, dtype: int64\n",
      "is_corona_positive\n",
      "0    26009\n",
      "1     1461\n",
      "Name: count, dtype: int64\n",
      "is_corona_positive\n",
      "0    26055\n",
      "1     1416\n",
      "Name: count, dtype: int64\n"
     ]
    }
   ],
   "source": [
    "print(\"X_train shape: \", X_train.shape)\n",
    "print(\"X_valid shape: \", X_valid.shape)\n",
    "print(\"X_test shape: \", X_test.shape)\n",
    "\n",
    "print(\"y_train shape: \", y_train.shape)\n",
    "print(\"y_valid shape: \", y_valid.shape)\n",
    "print(\"y_test shape: \", y_test.shape)\n",
    "\n",
    "print(y_train.value_counts())\n",
    "print(y_valid.value_counts())\n",
    "print(y_test.value_counts())"
   ]
  },
  {
   "cell_type": "code",
   "execution_count": 44,
   "metadata": {},
   "outputs": [],
   "source": [
    "X_smote_train, y_smote_train = SMOTEENN(random_state=42).fit_resample(X_train, y_train)"
   ]
  },
  {
   "cell_type": "code",
   "execution_count": 45,
   "metadata": {},
   "outputs": [
    {
     "name": "stdout",
     "output_type": "stream",
     "text": [
      "X_smote_train shape:  (273613, 13)\n",
      "y_smote_train shape:  (273613,)\n"
     ]
    }
   ],
   "source": [
    "print(\"X_smote_train shape: \", X_smote_train.shape)\n",
    "print(\"y_smote_train shape: \", y_smote_train.shape)"
   ]
  },
  {
   "cell_type": "code",
   "execution_count": 46,
   "metadata": {},
   "outputs": [
    {
     "name": "stdout",
     "output_type": "stream",
     "text": [
      "Counter({0: 194788, 1: 78825})\n"
     ]
    }
   ],
   "source": [
    "from collections import Counter\n",
    "print(Counter(y_smote_train))"
   ]
  },
  {
   "cell_type": "code",
   "execution_count": 47,
   "metadata": {},
   "outputs": [],
   "source": [
    "scaler = StandardScaler()\n",
    "X_train_scaled = scaler.fit_transform(X_smote_train)\n",
    "X_valid_scaled, X_test_scaled = scaler.transform(X_valid), scaler.transform(X_test)"
   ]
  },
  {
   "cell_type": "code",
   "execution_count": 48,
   "metadata": {},
   "outputs": [
    {
     "name": "stdout",
     "output_type": "stream",
     "text": [
      "X_train_scaled shape:  (273613, 13)\n",
      "X_valid_scaled shape:  (27470, 13)\n",
      "X_test_scaled shape:  (27471, 13)\n"
     ]
    }
   ],
   "source": [
    "print(\"X_train_scaled shape: \", X_train_scaled.shape)\n",
    "print(\"X_valid_scaled shape: \", X_valid_scaled.shape)\n",
    "print(\"X_test_scaled shape: \", X_test_scaled.shape)"
   ]
  },
  {
   "cell_type": "code",
   "execution_count": 49,
   "metadata": {},
   "outputs": [],
   "source": [
    "X_train_scaled_df = pd.DataFrame(X_train_scaled, columns=X_train.columns).reset_index(drop=True)\n",
    "X_valid_scaled_df = pd.DataFrame(X_valid_scaled, columns=X_valid.columns).reset_index(drop=True)\n",
    "X_test_scaled_df = pd.DataFrame(X_test_scaled, columns=X_test.columns).reset_index(drop=True)\n",
    "\n",
    "y_smote_train_df = pd.DataFrame(y_smote_train, columns=['is_corona_positive']).reset_index(drop=True)\n",
    "y_valid_df = pd.DataFrame(y_valid, columns=['is_corona_positive']).reset_index(drop=True)\n",
    "y_test_df = pd.DataFrame(y_test, columns=['is_corona_positive']).reset_index(drop=True)"
   ]
  },
  {
   "cell_type": "code",
   "execution_count": 50,
   "metadata": {},
   "outputs": [
    {
     "name": "stdout",
     "output_type": "stream",
     "text": [
      "(273613, 13)\n",
      "(27470, 13)\n",
      "(27471, 13)\n",
      "(273613, 1)\n",
      "(27470, 1)\n",
      "(27471, 1)\n"
     ]
    }
   ],
   "source": [
    "print(X_train_scaled_df.shape)\n",
    "print(X_valid_scaled_df.shape)\n",
    "print(X_test_scaled_df.shape)\n",
    "\n",
    "print(y_smote_train_df.shape)\n",
    "print(y_valid_df.shape)\n",
    "print(y_test_df.shape)"
   ]
  },
  {
   "cell_type": "code",
   "execution_count": 51,
   "metadata": {},
   "outputs": [
    {
     "name": "stdout",
     "output_type": "stream",
     "text": [
      "is_corona_positive\n",
      "0                     194788\n",
      "1                      78825\n",
      "Name: count, dtype: int64\n",
      "is_corona_positive\n",
      "0                     26009\n",
      "1                      1461\n",
      "Name: count, dtype: int64\n",
      "is_corona_positive\n",
      "0                     26055\n",
      "1                      1416\n",
      "Name: count, dtype: int64\n"
     ]
    }
   ],
   "source": [
    "print(y_smote_train_df.value_counts())\n",
    "print(y_valid_df.value_counts())\n",
    "print(y_test_df.value_counts())"
   ]
  },
  {
   "cell_type": "code",
   "execution_count": 52,
   "metadata": {},
   "outputs": [],
   "source": [
    "train_df = pd.concat([X_train_scaled_df, y_smote_train_df], axis=1)\n",
    "valid_df = pd.concat([X_valid_scaled_df, y_valid_df], axis=1)\n",
    "test_df = pd.concat([X_test_scaled_df, y_test_df], axis=1)"
   ]
  },
  {
   "cell_type": "code",
   "execution_count": 53,
   "metadata": {},
   "outputs": [
    {
     "name": "stdout",
     "output_type": "stream",
     "text": [
      "(273613, 14)\n",
      "(27470, 14)\n",
      "(27471, 14)\n"
     ]
    }
   ],
   "source": [
    "print(train_df.shape)\n",
    "print(valid_df.shape)\n",
    "print(test_df.shape)"
   ]
  },
  {
   "cell_type": "code",
   "execution_count": 54,
   "metadata": {},
   "outputs": [],
   "source": [
    "train_df.to_csv(\"train_df.csv\", index=False)\n",
    "valid_df.to_csv(\"valid_df.csv\", index=False)\n",
    "test_df.to_csv(\"test_df.csv\", index=False)"
   ]
  }
 ],
 "metadata": {
  "kernelspec": {
   "display_name": "base",
   "language": "python",
   "name": "python3"
  },
  "language_info": {
   "codemirror_mode": {
    "name": "ipython",
    "version": 3
   },
   "file_extension": ".py",
   "mimetype": "text/x-python",
   "name": "python",
   "nbconvert_exporter": "python",
   "pygments_lexer": "ipython3",
   "version": "3.8.5"
  },
  "orig_nbformat": 4
 },
 "nbformat": 4,
 "nbformat_minor": 2
}
